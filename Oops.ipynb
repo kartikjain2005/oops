{
  "nbformat": 4,
  "nbformat_minor": 0,
  "metadata": {
    "colab": {
      "provenance": []
    },
    "kernelspec": {
      "name": "python3",
      "display_name": "Python 3"
    },
    "language_info": {
      "name": "python"
    }
  },
  "cells": [
    {
      "cell_type": "markdown",
      "source": [
        "# **Python OOPS Questions :-**"
      ],
      "metadata": {
        "id": "P0zVlmoKX79q"
      }
    },
    {
      "cell_type": "markdown",
      "source": [
        "1. **What is object oriented programing ?**\n",
        "- object oriented programing is a way or a prograing paradigm in which we make the object and instance of classes in object oriented pograming there is are many concept which make our code secure , reusable and it is a way in which properties are bundel for individual objects\n",
        "we make claases in which it has blue print to create the objects and objects are the instance of classes"
      ],
      "metadata": {
        "id": "Zr2GG4CCYTPC"
      }
    },
    {
      "cell_type": "markdown",
      "source": [
        "2. **What is a class in OOPs?**\n",
        "- class in oops has a blue print for creating the objects it has properties so that object can get it"
      ],
      "metadata": {
        "id": "PIwX9yTqgn5X"
      }
    },
    {
      "cell_type": "markdown",
      "source": [
        "3. **What is an object in OOPs ?**\n",
        "- objects in oops is an instance of classes , class defines the properties and object is created from that"
      ],
      "metadata": {
        "id": "D2eO2HKKhJBR"
      }
    },
    {
      "cell_type": "markdown",
      "source": [
        "4. **What is the difference between abstraction and encapsulation?**\n",
        "- abstraction is defined as it hides the complex detail and show only that part which is important . it maily focuses on what the code do.\n",
        "- it maily wraps up the data and method to keeps them safe. it mainly focuses on how to protect the data"
      ],
      "metadata": {
        "id": "q78hqjx0iBFr"
      }
    },
    {
      "cell_type": "markdown",
      "source": [
        "5. **What are dunder methods in Python ?**\n",
        "- dunder method in python are the special methods in python which starts and ends with the double underscore ex : __init__( ) , __call__( ) , __add__( )\n",
        "it help us to control how objects behave with operator ,function\n"
      ],
      "metadata": {
        "id": "N2tqdEjGpCII"
      }
    },
    {
      "cell_type": "markdown",
      "source": [
        "6. **Explain the concept of inheritance in OOPs ?**\n",
        "- ineritance is used to inherits the properties from parent class to child class  there are many types\n",
        " - 1. single inheritance :- in this inheritance a single child inherits the property from the single parent class ( A -> B)\n",
        " - 2. multiple inheritence :- in this inheritance a single child inherits the properties froom more then one parent class (A + B -> C)\n",
        " - 3. Multilevel inheritance :- in this inheritance child class inherits the properties from  parent class and parent class inherits the properties from grandparent class (A -> B -> C)\n",
        " - 4.  hierarichical inheritance :- in this inheritance there is single parent  class has many child class (A ->B , A->C)\n",
        " - 5. Hybrid Inheritance :- in this inheritance it is the combination of all inheritance"
      ],
      "metadata": {
        "id": "vdRSQfd3xFy_"
      }
    },
    {
      "cell_type": "markdown",
      "source": [
        "7. **What is polymorphism in oops**\n",
        "- polymorphism in oops means a ability of object or method to take the many forms\n"
      ],
      "metadata": {
        "id": "6g0FP9mfluuo"
      }
    },
    {
      "cell_type": "markdown",
      "source": [
        "8. **how encapsu;ation is achived in python**\n",
        "- encapsulation is achieved in python by using protected and private methods example :-  \n",
        "\n",
        "\n",
        "```\n",
        "class Student:\n",
        "    def __init__(self, name, marks):\n",
        "        self.name = name        \n",
        "        self._college = \"HMRITM\"  \n",
        "        self.__marks = marks    \n",
        "\n",
        "    def show_marks(self):\n",
        "        print(f\"{self.name}'s marks: {self.__marks}\")\n",
        "\n",
        "s = Student(\"Kartik\", 85)\n",
        "\n",
        "print(s.name)          \n",
        "print(s._college)          \n",
        "s.show_marks()        \n",
        "\n",
        "```\n",
        "\n"
      ],
      "metadata": {
        "id": "189WwjGEn2Bt"
      }
    },
    {
      "cell_type": "markdown",
      "source": [
        "9. **What is a constructor in Python?**\n",
        "- A constructor is a special method in which constructor is called automatically when an object is called in python we use __init__( ) as a constructor\n",
        "\n",
        "\n",
        "```\n",
        "class Student:\n",
        "    def __init__(self , name , age):\n",
        "        self.name = name\n",
        "        self.age = age\n",
        "s1 = Student(\"Kartik\" , 20)\n",
        "print(s1.name)\n",
        "print(s1.age)\n",
        "```\n",
        "\n"
      ],
      "metadata": {
        "id": "NjrsoDDBognK"
      }
    },
    {
      "cell_type": "markdown",
      "source": [
        "10. **What are class and static methods in Python?**\n",
        "- classmethod : A method which work on class itself not just an object and first parameter is used as cls not self\n",
        "and it is used by @classmethods and cls refers as class not an object\n",
        "- static method : A method that doesn’t need object or class reference. It’s like a normal function inside a class.It doesn’t take self or cls\n",
        "Used when your function is logically related to the class, but doesn’t need object/class data\n",
        "\n"
      ],
      "metadata": {
        "id": "B7iHLXk1qdgq"
      }
    },
    {
      "cell_type": "markdown",
      "source": [
        "11. **What is method overloading in Python ?**\n",
        "- method overloading is method in python in which a class has a multiple methods with same name but different parameters"
      ],
      "metadata": {
        "id": "whjq-brMOXR6"
      }
    },
    {
      "cell_type": "markdown",
      "source": [
        "12. **What is method overriding in OOP ?**\n",
        "- Method Overriding is a concept in object-oriented programming where a child  class provides a specific implementation of a method that is already defined in its parent class."
      ],
      "metadata": {
        "id": "XQp-XxYHPh-S"
      }
    },
    {
      "cell_type": "markdown",
      "source": [
        "13. **What is a property decorator in Python?**\n",
        "- The @property decorator in Python is used to turn a method into a \"read-only\" attribute.\n",
        "This lets you access methods like attributes, while still allowing logic behind the scenes."
      ],
      "metadata": {
        "id": "4pkunZoaQMyP"
      }
    },
    {
      "cell_type": "markdown",
      "source": [
        "14. **Why is polymorphism important in OOP?**\n",
        "- Polymorphism is one of the four core principles of Object-Oriented Programming (OOP) (others are inheritance, encapsulation, and abstraction). It's extremely important because it makes code flexible, extensible, and easy to maintain."
      ],
      "metadata": {
        "id": "b78UH3nsSkbj"
      }
    },
    {
      "cell_type": "markdown",
      "source": [
        "15. **What is an abstract class in Python?**\n",
        "- An abstract class is a class that cannot be instantiated directly and is meant to be inherited by other classes. It defines a blueprint for its subclasses, and usually contains one or more abstract methods — methods that are declared but don’t have an implementation in the base class.\n",
        "\n"
      ],
      "metadata": {
        "id": "u-Am3eKdTUZY"
      }
    },
    {
      "cell_type": "markdown",
      "source": [
        "16. **What are the advantages of OOP?**\n",
        "- Reusability\n",
        "You can write a class once and use it multiple times wherever needed. This saves time and avoids repeating code.\n",
        "\n",
        "- Modularity\n",
        "OOP allows you to break your code into small parts (classes). Each class has its own purpose, making the code easier to understand and manage.\n",
        "\n",
        "- Maintainability\n",
        "Because the code is organized into classes, it's easier to find and fix bugs or make changes without affecting the whole program.\n",
        "\n",
        "- Encapsulation\n",
        "OOP helps protect your data by keeping it inside the class and allowing access only through specific methods. This adds security and control.\n",
        "\n",
        "- Polymorphism\n",
        "You can use the same method name in different classes, and it will behave differently based on the object calling it. This makes your code more flexible and clean.\n",
        "\n",
        "- Abstraction\n",
        "OOP allows you to hide complex details and show only the necessary features to the user. This keeps your code clean and simple.\n",
        "\n",
        "- Scalability\n",
        "It’s easy to add new features or components to an OOP program without changing much of the existing code.\n",
        "\n"
      ],
      "metadata": {
        "id": "Y5lXnYQdUVq4"
      }
    },
    {
      "cell_type": "markdown",
      "source": [
        "17. **What is the difference between a class variable and an instance variable?**\n",
        "- **Instance Variable**:\n",
        "  - Belongs to the object (instance) of a class.\n",
        "\n",
        "  - Created using self, like self.name = \"Kartik\".\n",
        "\n",
        "  - Every object has its own copy.\n",
        "\n",
        "  - Changing it in one object won’t affect others.\n",
        "- **Class Variable**:\n",
        "  - Belongs to the class itself, not to instances.\n",
        "\n",
        "  - Shared by all objects of the class.\n",
        "\n",
        "  - Changing it will affect all instances (unless overridden)"
      ],
      "metadata": {
        "id": "uefb4_6rVBjT"
      }
    },
    {
      "cell_type": "markdown",
      "source": [
        "18. **What is multiple inheritance in Python?**\n",
        "- Multiple Inheritance means that a class can inherit from more than one parent class at the same time."
      ],
      "metadata": {
        "id": "4wH12Hw-W8gb"
      }
    },
    {
      "cell_type": "markdown",
      "source": [
        "19. **Explain the purpose of ‘’__str__’ and ‘__repr__’ ‘ methods in Python?**\n",
        "- __str__\n",
        " - Purpose: To return a nicely formatted string for the end user.\n",
        "\n",
        " - Called when you use print(object) or str(object).\n",
        "\n",
        " - It’s meant to be readable and user-friendly.\n",
        "- __repr__\n",
        " - Purpose: To return an unambiguous string — used mostly by developers.\n",
        "\n",
        " - Called when you type the object name in console or use repr(object).\n",
        "\n",
        " - Should look like a string that can be used to recreate the object (if possible)."
      ],
      "metadata": {
        "id": "6x1y8-TbXNG1"
      }
    },
    {
      "cell_type": "markdown",
      "source": [
        "20. **What is the significance of the ‘super()’ function in Python?**\n",
        "- super() is a built-in function in Python that allows you to call methods from the parent class inside a child class.\n"
      ],
      "metadata": {
        "id": "9ASER26hYCD7"
      }
    },
    {
      "cell_type": "markdown",
      "source": [
        "21. **What is the significance of the __del__ method in Python?**\n",
        "- __del__ is a special method in Python called a destructor.\n",
        "\n",
        "It is automatically called when an object is about to be destroyed (i.e., deleted from memory)"
      ],
      "metadata": {
        "id": "jGw2Lw8GbUjm"
      }
    },
    {
      "cell_type": "markdown",
      "source": [
        "22. **What is the difference between @staticmethod and @classmethod in Python?**\n",
        "- @staticmethod\n",
        "  - It doesn’t take self or cls as the first argument.\n",
        "\n",
        "  - It behaves like a normal function, but lives inside a class.\n",
        "\n",
        "  - Used when the method doesn’t need to access class or instance data.\n",
        "- @classmethod\n",
        "  - It takes cls as the first argument (not self).\n",
        "\n",
        "  - It can access and modify class variables.\n",
        "\n",
        "  - Useful for creating factory methods or working with class-level data."
      ],
      "metadata": {
        "id": "dlJTRa9fbxLs"
      }
    },
    {
      "cell_type": "markdown",
      "source": [
        "23. **How does polymorphism work in Python with inheritance?**\n",
        "- Polymorphism means “many forms” —\n",
        "In OOP, it allows you to use the same method name for different classes, and the method behaves differently depending on the object calling it.\n",
        "When you have a parent class and multiple child classes, and all of them have a method with the same name, Python will automatically call the correct version of the method depending on which object you're using."
      ],
      "metadata": {
        "id": "JVVZqAqEcdeb"
      }
    },
    {
      "cell_type": "markdown",
      "source": [
        "24. **What is method chaining in Python OOP?**\n",
        "- Method Chaining means calling multiple methods on the same object in a single line, one after the other — like a chain.\n",
        "\n",
        "It works when each method returns the object itself (self), so that the next method can be called on it."
      ],
      "metadata": {
        "id": "g9nMhR-Wc8dw"
      }
    },
    {
      "cell_type": "markdown",
      "source": [
        "25. **What is the purpose of the __call__ method in Python?**\n",
        "- The __call__ method allows an object to behave like a function.\n",
        "\n",
        "When you define __call__ inside a class, you can \"call\" its objects like a regular function.\n",
        "\n"
      ],
      "metadata": {
        "id": "1RXvVKuEdraS"
      }
    },
    {
      "cell_type": "markdown",
      "source": [
        "# ***====Practical Questions====***"
      ],
      "metadata": {
        "id": "Vqfi0L1CeABt"
      }
    },
    {
      "cell_type": "markdown",
      "source": [
        "1. Create a parent class Animal with a method speak() that prints a generic message. Create a child class Dog\n",
        "that overrides the speak() method to print \"Bark!\"."
      ],
      "metadata": {
        "id": "2fbu_MV4f4Aq"
      }
    },
    {
      "cell_type": "code",
      "source": [
        "class Animal:\n",
        "  def speak(self):\n",
        "    print(\"generic animal sound\")\n",
        "class Dog(Animal):\n",
        "  def speak(self):\n",
        "    print(\"Bark!\")\n",
        "a = Animal()\n",
        "a.speak()\n",
        "\n",
        "d = Dog()\n",
        "d.speak()"
      ],
      "metadata": {
        "colab": {
          "base_uri": "https://localhost:8080/"
        },
        "id": "7GKp7EyWf_dv",
        "outputId": "a6c7ead2-a19e-472f-eb76-1782f8ccc6f1"
      },
      "execution_count": null,
      "outputs": [
        {
          "output_type": "stream",
          "name": "stdout",
          "text": [
            "generic animal sound\n",
            "Bark!\n"
          ]
        }
      ]
    },
    {
      "cell_type": "markdown",
      "source": [
        "2. Write a program to create an abstract class Shape with a method area(). Derive classes Circle and Rectangle\n",
        "from it and implement the area() method in both."
      ],
      "metadata": {
        "id": "wVrkOmFpgntz"
      }
    },
    {
      "cell_type": "code",
      "source": [
        "from abc import ABC ,abstractmethod\n",
        "class Shape(ABC):\n",
        "  @abstractmethod\n",
        "  def area(self):\n",
        "    pass\n",
        "class Circle(Shape):\n",
        "  def __init__(self , r):\n",
        "    self.r = r\n",
        "  def area(self,):\n",
        "    return 3.14*self.r*self.r\n",
        "class Rectangle(Shape):\n",
        "  def __init__(self , l , b):\n",
        "    self.l = l\n",
        "    self.b = b\n",
        "  def area(self):\n",
        "    return self.l*self.b\n",
        "c = Circle(5)\n",
        "print(f\"Area of Circle: {c.area()}\")\n",
        "\n",
        "r = Rectangle(4,6)\n",
        "print(f\"Area of Rectangle: {r.area()}\")"
      ],
      "metadata": {
        "colab": {
          "base_uri": "https://localhost:8080/"
        },
        "id": "c7pB03WNgwX_",
        "outputId": "fee1e65a-f993-4215-9f7b-2551aa9c88f0"
      },
      "execution_count": null,
      "outputs": [
        {
          "output_type": "stream",
          "name": "stdout",
          "text": [
            "Area of Circle: 78.5\n",
            "Area of Rectangle: 24\n"
          ]
        }
      ]
    },
    {
      "cell_type": "markdown",
      "source": [
        "3. Implement a multi-level inheritance scenario where a class Vehicle has an attribute type. Derive a class Car\n",
        "and further derive a class ElectricCar that adds a battery attribute."
      ],
      "metadata": {
        "id": "OjudYI8nkted"
      }
    },
    {
      "cell_type": "code",
      "source": [
        "class Vechicle:\n",
        "  def __init__(self , type):\n",
        "    self.type = type\n",
        "  def show_type(self):\n",
        "    print(f\"type of vechile is {self.type}\")\n",
        "class  Car(Vechicle):\n",
        "  def __init__(self , type , brand):\n",
        "    super().__init__(type)\n",
        "    self.brand = brand\n",
        "  def show_brand(self):\n",
        "    print(f\"brand of car is {self.brand}\")\n",
        "class ElectricCar(Car):\n",
        "  def __init__(self , type , brand , battery):\n",
        "    super().__init__(type , brand)\n",
        "    self.battery = battery\n",
        "  def show_battery(self):\n",
        "    print(f\"the battery of electric car is {self.battery}\")\n",
        "ecar = ElectricCar(\"four Wheeler\" , \"BMW\" , \"5000 kwh\")\n",
        "ecar.show_type()\n",
        "ecar.show_brand()\n",
        "ecar.show_battery()\n",
        "\n",
        "\n"
      ],
      "metadata": {
        "colab": {
          "base_uri": "https://localhost:8080/"
        },
        "id": "kJqC9gZCkzv_",
        "outputId": "4af454f7-4db7-481a-d66a-491c5a6b5444"
      },
      "execution_count": null,
      "outputs": [
        {
          "output_type": "stream",
          "name": "stdout",
          "text": [
            "type of vechile is four Wheeler\n",
            "brand of car is BMW\n",
            "the battery of electric car is 5000 kwh\n"
          ]
        }
      ]
    },
    {
      "cell_type": "markdown",
      "source": [
        "4. Demonstrate polymorphism by creating a base class Bird with a method fly(). Create two derived classes\n",
        "Sparrow and Penguin that override the fly() method.\n"
      ],
      "metadata": {
        "id": "HWcl6Emnp3Bd"
      }
    },
    {
      "cell_type": "code",
      "source": [
        "\n",
        "class Bird:\n",
        "    def fly(self):\n",
        "        print(\"Some bird is flying...\")\n",
        "class Sparrow(Bird):\n",
        "    def fly(self):\n",
        "        print(\"Sparrow flies high in the sky!\")\n",
        "class Penguin(Bird):\n",
        "    def fly(self):\n",
        "        print(\"Penguins can't fly, they waddle.\")\n",
        "def bird_fly(bird):\n",
        "    bird.fly()\n",
        "sparrow = Sparrow()\n",
        "penguin = Penguin()\n",
        "bird_fly(sparrow)\n",
        "bird_fly(penguin)\n"
      ],
      "metadata": {
        "colab": {
          "base_uri": "https://localhost:8080/"
        },
        "id": "eeYNcSQxqScC",
        "outputId": "4ef8aaac-a60d-41fb-cd57-d6a4ca29c420"
      },
      "execution_count": null,
      "outputs": [
        {
          "output_type": "stream",
          "name": "stdout",
          "text": [
            "Sparrow flies high in the sky!\n",
            "Penguins can't fly, they waddle.\n"
          ]
        }
      ]
    },
    {
      "cell_type": "markdown",
      "source": [
        "5. Write a program to demonstrate encapsulation by creating a class BankAccount with private attributes\n",
        "balance and methods to deposit, withdraw, and check balance."
      ],
      "metadata": {
        "id": "jlsljj8Kqlxn"
      }
    },
    {
      "cell_type": "code",
      "source": [
        "class BankAccount:\n",
        "    def __init__(self, initial_balance=0):\n",
        "        self.__balance = initial_balance\n",
        "    def deposit(self, amount):\n",
        "        if amount > 0:\n",
        "            self.__balance += amount\n",
        "            print(f\"Deposited ₹{amount}\")\n",
        "        else:\n",
        "            print(\"Deposit amount must be positive.\")\n",
        "    def withdraw(self, amount):\n",
        "        if 0 < amount <= self.__balance:\n",
        "            self.__balance -= amount\n",
        "            print(f\"Withdrew ₹{amount}\")\n",
        "        else:\n",
        "            print(\"Insufficient balance or invalid amount.\")\n",
        "    def check_balance(self):\n",
        "        print(f\"Current Balance: ₹{self.__balance}\")\n",
        "acc = BankAccount(1000)\n",
        "acc.check_balance()\n",
        "acc.deposit(500)\n",
        "acc.withdraw(200)\n",
        "acc.check_balance()\n"
      ],
      "metadata": {
        "colab": {
          "base_uri": "https://localhost:8080/"
        },
        "id": "jHITPGCzqtwc",
        "outputId": "6db80526-c539-4e24-d9b1-9ade486d109f"
      },
      "execution_count": null,
      "outputs": [
        {
          "output_type": "stream",
          "name": "stdout",
          "text": [
            "Current Balance: ₹1000\n",
            "Deposited ₹500\n",
            "Withdrew ₹200\n",
            "Current Balance: ₹1300\n"
          ]
        }
      ]
    },
    {
      "cell_type": "markdown",
      "source": [
        "6.  Demonstrate runtime polymorphism using a method play() in a base class Instrument. Derive classes Guitar\n",
        "and Piano that implement their own version of play()."
      ],
      "metadata": {
        "id": "crcSDB1OfwAv"
      }
    },
    {
      "cell_type": "code",
      "source": [
        "class Instrument:\n",
        "  def play(self):\n",
        "    print(\"Instrument is playing\")\n",
        "class Guitar(Instrument):\n",
        "  def play(self):\n",
        "    print(\"guitar is playing \")\n",
        "class Piano(Instrument):\n",
        "  def play(self):\n",
        "    print(\"piano is playing\")\n",
        "def start_playing(instrument):\n",
        "    instrument.play()\n",
        "g = Guitar()\n",
        "p = Piano()\n",
        "start_playing(g)\n",
        "start_playing(p)"
      ],
      "metadata": {
        "colab": {
          "base_uri": "https://localhost:8080/"
        },
        "id": "BkNBauulf0uw",
        "outputId": "4f33ca01-74d1-43ce-9285-4cf992b928ca"
      },
      "execution_count": null,
      "outputs": [
        {
          "output_type": "stream",
          "name": "stdout",
          "text": [
            "guitar is playing \n",
            "piano is playing\n"
          ]
        }
      ]
    },
    {
      "cell_type": "markdown",
      "source": [
        "7.  Create a class MathOperations with a class method add_numbers() to add two numbers and a static\n",
        "method subtract_numbers() to subtract two numbers."
      ],
      "metadata": {
        "id": "z0g6bjfBfvs1"
      }
    },
    {
      "cell_type": "code",
      "source": [
        "class MathOperations:\n",
        "  @classmethod\n",
        "  def add_numbers(cls , a , b):\n",
        "    return a+b\n",
        "  @staticmethod\n",
        "  def subtract_numbers(a,b):\n",
        "    return a-b\n",
        "mo = MathOperations.add_numbers(5,6)\n",
        "print(\"addition : \", mo)\n",
        "so = MathOperations.subtract_numbers(10 ,5)\n",
        "print(\"subtraction : \" , so)\n",
        "\n"
      ],
      "metadata": {
        "colab": {
          "base_uri": "https://localhost:8080/"
        },
        "id": "UUIHiFZ5mZCq",
        "outputId": "217cb2ea-6edb-480f-f68c-d362767f35b1"
      },
      "execution_count": null,
      "outputs": [
        {
          "output_type": "stream",
          "name": "stdout",
          "text": [
            "addition :  11\n",
            "subtraction :  5\n"
          ]
        }
      ]
    },
    {
      "cell_type": "markdown",
      "source": [
        "8. Implement a class Person with a class method to count the total number of persons created."
      ],
      "metadata": {
        "id": "ckG-ENZuoIz3"
      }
    },
    {
      "cell_type": "code",
      "source": [
        "class Person:\n",
        "  count = 0\n",
        "  def __init__(self , name):\n",
        "    self.name = name\n",
        "    Person.count +=1\n",
        "  @classmethod\n",
        "  def total_no_of_people(cls):\n",
        "    return cls.count\n",
        "p1 = Person(\"Kartik\")\n",
        "p2 = Person(\"rohit\")\n",
        "P3 = Person(\"Aditya\")\n",
        "print(\"total no of persons are : \", Person.total_no_of_people())\n"
      ],
      "metadata": {
        "id": "FZYnthNSoaNd",
        "colab": {
          "base_uri": "https://localhost:8080/"
        },
        "outputId": "a4e05b73-14c2-4500-a706-ea442096f904"
      },
      "execution_count": 15,
      "outputs": [
        {
          "output_type": "stream",
          "name": "stdout",
          "text": [
            "total no of persons are :  3\n"
          ]
        }
      ]
    },
    {
      "cell_type": "markdown",
      "source": [
        "9.  Write a class Fraction with attributes numerator and denominator. Override the str method to display the\n",
        "fraction as \"numerator/denominator\"."
      ],
      "metadata": {
        "id": "6NAVkPPftiHR"
      }
    },
    {
      "cell_type": "code",
      "source": [
        "class Fraction:\n",
        "    def __init__(self, numerator, denominator):\n",
        "        self.numerator = numerator\n",
        "        self.denominator = denominator\n",
        "    def __str__(self):\n",
        "        return f\"{self.numerator}/{self.denominator}\"\n",
        "f1 = Fraction(3, 4)\n",
        "f2 = Fraction(7, 2)\n",
        "\n",
        "print(f1)\n",
        "print(f2)\n"
      ],
      "metadata": {
        "colab": {
          "base_uri": "https://localhost:8080/"
        },
        "id": "jL5SQatEtmsf",
        "outputId": "778ac89a-4a2d-4593-8406-1428da6f199e"
      },
      "execution_count": 16,
      "outputs": [
        {
          "output_type": "stream",
          "name": "stdout",
          "text": [
            "3/4\n",
            "7/2\n"
          ]
        }
      ]
    },
    {
      "cell_type": "markdown",
      "source": [
        "10. Demonstrate operator overloading by creating a class Vector and overriding the add method to add two\n",
        "vectors"
      ],
      "metadata": {
        "id": "ejccC3kduEBT"
      }
    },
    {
      "cell_type": "code",
      "source": [
        "class Vector:\n",
        "    def __init__(self, x, y):\n",
        "        self.x = x\n",
        "        self.y = y\n",
        "\n",
        "    def __add__(self, other):\n",
        "\n",
        "        return Vector(self.x + other.x, self.y + other.y)\n",
        "\n",
        "    def __str__(self):\n",
        "\n",
        "        return f\"Vector({self.x}, {self.y})\"\n",
        "\n",
        "\n",
        "v1 = Vector(2, 3)\n",
        "v2 = Vector(4, 5)\n",
        "\n",
        "\n",
        "v3 = v1 + v2\n",
        "\n",
        "\n",
        "print(\"v1:\", v1)\n",
        "print(\"v2:\", v2)\n",
        "print(\"v1 + v2 =\", v3)\n"
      ],
      "metadata": {
        "colab": {
          "base_uri": "https://localhost:8080/"
        },
        "id": "gvbNCzxruqyr",
        "outputId": "86ff568d-2340-47bc-9f5b-b7fa7bba5f2b"
      },
      "execution_count": 17,
      "outputs": [
        {
          "output_type": "stream",
          "name": "stdout",
          "text": [
            "v1: Vector(2, 3)\n",
            "v2: Vector(4, 5)\n",
            "v1 + v2 = Vector(6, 8)\n"
          ]
        }
      ]
    },
    {
      "cell_type": "markdown",
      "source": [
        "11.  Create a class Person with attributes name and age. Add a method greet() that prints \"Hello, my name is\n",
        "{name} and I am {age} years old.\""
      ],
      "metadata": {
        "id": "O6JEKXajv6ES"
      }
    },
    {
      "cell_type": "code",
      "source": [
        "class Person:\n",
        "  def __init__(self , name , age):\n",
        "    self.name = name\n",
        "    self.age = age\n",
        "  def greet(self):\n",
        "    print(f\"Hello, my name is {self.name} and I am {self.age} years old.\")\n",
        "p1 = Person(\"Kartik\" , 20)\n",
        "p1.greet()"
      ],
      "metadata": {
        "colab": {
          "base_uri": "https://localhost:8080/"
        },
        "id": "bjlBVD2ywWTX",
        "outputId": "300e47e3-495a-40b0-c560-9a3dd3783b88"
      },
      "execution_count": 21,
      "outputs": [
        {
          "output_type": "stream",
          "name": "stdout",
          "text": [
            "Hello, my name is Kartik and I am 20 years old.\n"
          ]
        }
      ]
    },
    {
      "cell_type": "markdown",
      "source": [
        "12.  Implement a class Student with attributes name and grades. Create a method average_grade() to compute\n",
        "the average of the grades."
      ],
      "metadata": {
        "id": "v8A76TeOwt9o"
      }
    },
    {
      "cell_type": "code",
      "source": [
        "class Student:\n",
        "    def __init__(self, name, grades):\n",
        "        self.name = name\n",
        "        self.grades = grades\n",
        "\n",
        "    def average_grade(self):\n",
        "        if len(self.grades) == 0:\n",
        "            return 0\n",
        "        return sum(self.grades) / len(self.grades)\n",
        "s1 = Student(\"Kartik\", [85, 90, 78, 92])\n",
        "average = s1.average_grade()\n",
        "\n",
        "print(f\"{s1.name}'s average grade is: {average:.2f}\")\n"
      ],
      "metadata": {
        "colab": {
          "base_uri": "https://localhost:8080/"
        },
        "id": "E5nmAsvj0Rg0",
        "outputId": "ffeb108e-6b16-4f5a-9533-97c56b4c8922"
      },
      "execution_count": 22,
      "outputs": [
        {
          "output_type": "stream",
          "name": "stdout",
          "text": [
            "Kartik's average grade is: 86.25\n"
          ]
        }
      ]
    },
    {
      "cell_type": "markdown",
      "source": [
        "13.  Create a class Rectangle with methods set_dimensions() to set the dimensions and area() to calculate the\n",
        "area"
      ],
      "metadata": {
        "id": "EuEMPddj1TVu"
      }
    },
    {
      "cell_type": "code",
      "source": [
        "class Rectangle:\n",
        "    def __init__(self):\n",
        "        self.length = 0\n",
        "        self.width = 0\n",
        "\n",
        "    def set_dimensions(self, length, width):\n",
        "        self.length = length\n",
        "        self.width = width\n",
        "\n",
        "    def area(self):\n",
        "        return self.length * self.width\n",
        "\n",
        "rect = Rectangle()\n",
        "rect.set_dimensions(5, 3)\n",
        "print(\"Area of rectangle:\", rect.area())\n"
      ],
      "metadata": {
        "colab": {
          "base_uri": "https://localhost:8080/"
        },
        "id": "SUfZ80X31YeW",
        "outputId": "466dde85-41b9-43f3-b26e-9920b809183f"
      },
      "execution_count": 23,
      "outputs": [
        {
          "output_type": "stream",
          "name": "stdout",
          "text": [
            "Area of rectangle: 15\n"
          ]
        }
      ]
    },
    {
      "cell_type": "markdown",
      "source": [
        "14. Create a class Employee with a method calculate_salary() that computes the salary based on hours worked\n",
        "and hourly rate. Create a derived class Manager that adds a bonus to the salary"
      ],
      "metadata": {
        "id": "za7kkKEB1v_k"
      }
    },
    {
      "cell_type": "code",
      "source": [
        "class Employee:\n",
        "    def __init__(self, name, hours_worked, hourly_rate):\n",
        "        self.name = name\n",
        "        self.hours_worked = hours_worked\n",
        "        self.hourly_rate = hourly_rate\n",
        "\n",
        "    def calculate_salary(self):\n",
        "        return self.hours_worked * self.hourly_rate\n",
        "\n",
        "\n",
        "class Manager(Employee):\n",
        "    def __init__(self, name, hours_worked, hourly_rate, bonus):\n",
        "        super().__init__(name, hours_worked, hourly_rate)\n",
        "        self.bonus = bonus\n",
        "\n",
        "    def calculate_salary(self):\n",
        "        base_salary = super().calculate_salary()\n",
        "        return base_salary + self.bonus\n",
        "\n",
        "e1 = Employee(\"Ravi\", 40, 200)\n",
        "m1 = Manager(\"Kartik\", 45, 250, 5000)\n",
        "\n",
        "print(f\"{e1.name}'s salary: ₹{e1.calculate_salary()}\")\n",
        "print(f\"{m1.name}'s salary: ₹{m1.calculate_salary()}\")\n"
      ],
      "metadata": {
        "colab": {
          "base_uri": "https://localhost:8080/"
        },
        "id": "0OuL7dFZ13At",
        "outputId": "5baf49ef-cdb4-45d7-c071-9458701d2531"
      },
      "execution_count": 24,
      "outputs": [
        {
          "output_type": "stream",
          "name": "stdout",
          "text": [
            "Ravi's salary: ₹8000\n",
            "Kartik's salary: ₹16250\n"
          ]
        }
      ]
    },
    {
      "cell_type": "markdown",
      "source": [
        "15. Create a class Product with attributes name, price, and quantity. Implement a method total_price() that\n",
        "calculates the total price of the product."
      ],
      "metadata": {
        "id": "xUJXa9VN2Uvx"
      }
    },
    {
      "cell_type": "code",
      "source": [
        "class Product:\n",
        "    def __init__(self, name, price, quantity):\n",
        "        self.name = name\n",
        "        self.price = price\n",
        "        self.quantity = quantity\n",
        "\n",
        "    def total_price(self):\n",
        "        return self.price * self.quantity\n",
        "\n",
        "p1 = Product(\"Laptop\", 50000, 2)\n",
        "print(\"Total price:\", p1.total_price())\n"
      ],
      "metadata": {
        "colab": {
          "base_uri": "https://localhost:8080/"
        },
        "id": "s8CPY6aG2a4J",
        "outputId": "8f704c02-a8a6-4681-9b03-10773f9a8c9e"
      },
      "execution_count": 25,
      "outputs": [
        {
          "output_type": "stream",
          "name": "stdout",
          "text": [
            "Total price: 100000\n"
          ]
        }
      ]
    },
    {
      "cell_type": "markdown",
      "source": [
        "16.  Create a class Animal with an abstract method sound(). Create two derived classes Cow and Sheep that\n",
        "implement the sound() method."
      ],
      "metadata": {
        "id": "65MsB6zo2i_K"
      }
    },
    {
      "cell_type": "code",
      "source": [
        "from abc import ABC, abstractmethod\n",
        "\n",
        "class Animal(ABC):\n",
        "    @abstractmethod\n",
        "    def sound(self):\n",
        "        pass\n",
        "\n",
        "class Cow(Animal):\n",
        "    def sound(self):\n",
        "        return \"Moo\"\n",
        "\n",
        "class Sheep(Animal):\n",
        "    def sound(self):\n",
        "        return \"Baa\"\n",
        "\n",
        "c = Cow()\n",
        "s = Sheep()\n",
        "\n",
        "print(\"Cow sound:\", c.sound())\n",
        "print(\"Sheep sound:\", s.sound())\n"
      ],
      "metadata": {
        "colab": {
          "base_uri": "https://localhost:8080/"
        },
        "id": "153CdHJb2qN9",
        "outputId": "1d0f2908-291d-459e-a74a-e4a79906e506"
      },
      "execution_count": 26,
      "outputs": [
        {
          "output_type": "stream",
          "name": "stdout",
          "text": [
            "Cow sound: Moo\n",
            "Sheep sound: Baa\n"
          ]
        }
      ]
    },
    {
      "cell_type": "markdown",
      "source": [
        "17. Create a class Book with attributes title, author, and year_published. Add a method get_book_info() that\n",
        "returns a formatted string with the book's details.\n"
      ],
      "metadata": {
        "id": "HcMFpZu_2sZT"
      }
    },
    {
      "cell_type": "code",
      "source": [
        "class Book:\n",
        "    def __init__(self, title, author, year_published):\n",
        "        self.title = title\n",
        "        self.author = author\n",
        "        self.year_published = year_published\n",
        "\n",
        "    def get_book_info(self):\n",
        "        return f\"Title: {self.title}, Author: {self.author}, Year Published: {self.year_published}\"\n",
        "\n",
        "b1 = Book(\"The Alchemist\", \"Paulo Coelho\", 1988)\n",
        "print(b1.get_book_info())\n"
      ],
      "metadata": {
        "colab": {
          "base_uri": "https://localhost:8080/"
        },
        "id": "kpQps5S62wrT",
        "outputId": "3794ede9-52ec-476e-ba4b-c3c73c275e9c"
      },
      "execution_count": 27,
      "outputs": [
        {
          "output_type": "stream",
          "name": "stdout",
          "text": [
            "Title: The Alchemist, Author: Paulo Coelho, Year Published: 1988\n"
          ]
        }
      ]
    },
    {
      "cell_type": "markdown",
      "source": [
        "18.  Create a class House with attributes address and price. Create a derived class Mansion that adds an\n",
        "attribute number_of_rooms."
      ],
      "metadata": {
        "id": "64KeDHb422DC"
      }
    },
    {
      "cell_type": "code",
      "source": [
        "class House:\n",
        "    def __init__(self, address, price):\n",
        "        self.address = address\n",
        "        self.price = price\n",
        "\n",
        "class Mansion(House):\n",
        "    def __init__(self, address, price, number_of_rooms):\n",
        "        super().__init__(address, price)\n",
        "        self.number_of_rooms = number_of_rooms\n",
        "\n",
        "# Example usage\n",
        "m1 = Mansion(\"123 Dream Street\", 50000000, 10)\n",
        "print(f\"Address: {m1.address}\")\n",
        "print(f\"Price: ₹{m1.price}\")\n",
        "print(f\"Number of rooms: {m1.number_of_rooms}\")\n"
      ],
      "metadata": {
        "colab": {
          "base_uri": "https://localhost:8080/"
        },
        "id": "MV3N8FzG3GS4",
        "outputId": "4c13ee07-7ecc-4f04-bc9f-0d312e4432c6"
      },
      "execution_count": 30,
      "outputs": [
        {
          "output_type": "stream",
          "name": "stdout",
          "text": [
            "Address: 123 Dream Street\n",
            "Price: ₹50000000\n",
            "Number of rooms: 10\n"
          ]
        }
      ]
    }
  ]
}